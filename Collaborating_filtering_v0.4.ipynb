{
 "cells": [
  {
   "cell_type": "code",
   "execution_count": 3,
   "metadata": {
    "collapsed": false
   },
   "outputs": [
    {
     "data": {
      "text/html": [
       "<div>\n",
       "<table border=\"1\" class=\"dataframe\">\n",
       "  <thead>\n",
       "    <tr style=\"text-align: right;\">\n",
       "      <th></th>\n",
       "      <th>user_id</th>\n",
       "      <th>talk_id</th>\n",
       "      <th>view_time</th>\n",
       "    </tr>\n",
       "  </thead>\n",
       "  <tbody>\n",
       "    <tr>\n",
       "      <th>0</th>\n",
       "      <td>1</td>\n",
       "      <td>10474</td>\n",
       "      <td>07/27/2016 12:27:35</td>\n",
       "    </tr>\n",
       "    <tr>\n",
       "      <th>1</th>\n",
       "      <td>1</td>\n",
       "      <td>10488</td>\n",
       "      <td>08/05/2016 12:34:01</td>\n",
       "    </tr>\n",
       "    <tr>\n",
       "      <th>2</th>\n",
       "      <td>1</td>\n",
       "      <td>10506</td>\n",
       "      <td>08/07/2016 15:55:57</td>\n",
       "    </tr>\n",
       "    <tr>\n",
       "      <th>3</th>\n",
       "      <td>1</td>\n",
       "      <td>10446</td>\n",
       "      <td>08/07/2016 15:58:09</td>\n",
       "    </tr>\n",
       "    <tr>\n",
       "      <th>4</th>\n",
       "      <td>1</td>\n",
       "      <td>10506</td>\n",
       "      <td>08/07/2016 16:06:26</td>\n",
       "    </tr>\n",
       "  </tbody>\n",
       "</table>\n",
       "</div>"
      ],
      "text/plain": [
       "   user_id  talk_id            view_time\n",
       "0        1    10474  07/27/2016 12:27:35\n",
       "1        1    10488  08/05/2016 12:34:01\n",
       "2        1    10506  08/07/2016 15:55:57\n",
       "3        1    10446  08/07/2016 15:58:09\n",
       "4        1    10506  08/07/2016 16:06:26"
      ]
     },
     "execution_count": 3,
     "metadata": {},
     "output_type": "execute_result"
    }
   ],
   "source": [
    "#Task 2.1-User-based/Item-based Collaborative Filtering\n",
    "#@Saixiong Han\n",
    "\n",
    "#import train_user_view data\n",
    "import pandas as pd\n",
    "import numpy as np\n",
    "\n",
    "train_user_view_df = pd.read_table('C:/Study/assignment8/train_user_view.txt')\n",
    "train_user_view_df.head()"
   ]
  },
  {
   "cell_type": "code",
   "execution_count": 4,
   "metadata": {
    "collapsed": false
   },
   "outputs": [
    {
     "data": {
      "text/html": [
       "<div>\n",
       "<table border=\"1\" class=\"dataframe\">\n",
       "  <thead>\n",
       "    <tr style=\"text-align: right;\">\n",
       "      <th></th>\n",
       "      <th>user_id</th>\n",
       "      <th>talk_id</th>\n",
       "      <th>view_time</th>\n",
       "    </tr>\n",
       "  </thead>\n",
       "  <tbody>\n",
       "    <tr>\n",
       "      <th>3</th>\n",
       "      <td>1</td>\n",
       "      <td>10446</td>\n",
       "      <td>08/07/2016 15:58:09</td>\n",
       "    </tr>\n",
       "    <tr>\n",
       "      <th>5</th>\n",
       "      <td>1</td>\n",
       "      <td>10446</td>\n",
       "      <td>08/08/2016 18:18:46</td>\n",
       "    </tr>\n",
       "    <tr>\n",
       "      <th>6</th>\n",
       "      <td>1</td>\n",
       "      <td>10446</td>\n",
       "      <td>08/09/2016 10:38:38</td>\n",
       "    </tr>\n",
       "    <tr>\n",
       "      <th>7</th>\n",
       "      <td>1</td>\n",
       "      <td>10446</td>\n",
       "      <td>08/09/2016 10:39:33</td>\n",
       "    </tr>\n",
       "    <tr>\n",
       "      <th>8</th>\n",
       "      <td>1</td>\n",
       "      <td>10446</td>\n",
       "      <td>08/09/2016 16:33:56</td>\n",
       "    </tr>\n",
       "  </tbody>\n",
       "</table>\n",
       "</div>"
      ],
      "text/plain": [
       "   user_id  talk_id            view_time\n",
       "3        1    10446  08/07/2016 15:58:09\n",
       "5        1    10446  08/08/2016 18:18:46\n",
       "6        1    10446  08/09/2016 10:38:38\n",
       "7        1    10446  08/09/2016 10:39:33\n",
       "8        1    10446  08/09/2016 16:33:56"
      ]
     },
     "execution_count": 4,
     "metadata": {},
     "output_type": "execute_result"
    }
   ],
   "source": [
    "new_df = train_user_view_df.sort_values(['user_id','talk_id','view_time'],ascending=[True,True,True])\n",
    "new_df.head()"
   ]
  },
  {
   "cell_type": "code",
   "execution_count": 5,
   "metadata": {
    "collapsed": false,
    "scrolled": false
   },
   "outputs": [
    {
     "name": "stdout",
     "output_type": "stream",
     "text": [
      "37 users\n",
      "165 talks\n"
     ]
    },
    {
     "data": {
      "text/plain": [
       "array([[ 10446.,  10446.,  10446., ...,      0.,      0.,      0.],\n",
       "       [ 10636.,  10636.,  10636., ...,  10634.,  10636.,  10636.],\n",
       "       [ 10516.,  10517.,  10532., ...,      0.,      0.,      0.],\n",
       "       ..., \n",
       "       [ 10634.,      0.,      0., ...,      0.,      0.,      0.],\n",
       "       [ 10666.,  10666.,  10666., ...,      0.,      0.,      0.],\n",
       "       [ 10583.,  10591.,  10702., ...,      0.,      0.,      0.]])"
      ]
     },
     "execution_count": 5,
     "metadata": {},
     "output_type": "execute_result"
    }
   ],
   "source": [
    "#convert the train_user_view.txt into a user-talk matrix.\n",
    "n_users = train_user_view_df.user_id.unique().shape[0]\n",
    "n_talks = train_user_view_df.talk_id.unique().shape[0]\n",
    "print str(n_users) + ' users'\n",
    "print str(n_talks) + ' talks'\n",
    "ctr =0\n",
    "ctr2 = 0\n",
    "temp = 0\n",
    "comments = np.zeros((n_users, n_talks))\n",
    "for row in new_df.itertuples():\n",
    "    if (row[1]-1)!=temp:\n",
    "        ctr = 0\n",
    "        ctr2 = ctr2+1\n",
    "    comments[ctr2, ctr] = row[2]\n",
    "    if (ctr+1)<n_talks:\n",
    "        ctr += 1\n",
    "    else: \n",
    "        ctr = 0\n",
    "    temp = row[1]-1\n",
    "comments"
   ]
  },
  {
   "cell_type": "code",
   "execution_count": 6,
   "metadata": {
    "collapsed": false
   },
   "outputs": [
    {
     "name": "stdout",
     "output_type": "stream",
     "text": [
      "Sparsity: 20.44%\n"
     ]
    }
   ],
   "source": [
    "sparsity = float(len(comments.nonzero()[0]))\n",
    "sparsity /= (comments.shape[0] * comments.shape[1])\n",
    "sparsity *= 100\n",
    "print 'Sparsity: {:4.2f}%'.format(sparsity)"
   ]
  },
  {
   "cell_type": "code",
   "execution_count": 7,
   "metadata": {
    "collapsed": false
   },
   "outputs": [],
   "source": [
    "#split the data into 80/10/10 trainning/validation/test data\n",
    "\n",
    "def train_rest_split(comments):\n",
    "    rest = np.zeros(comments.shape)\n",
    "    train = comments.copy()\n",
    "    for user in xrange(comments.shape[0]):\n",
    "        rest_comments = np.random.choice(comments[user, :].nonzero()[0], \n",
    "                                        size=20, \n",
    "                                        replace=True)\n",
    "        train[user, rest_comments] = 0.\n",
    "        rest[user, rest_comments] = comments[user, rest_comments]\n",
    "        \n",
    "    # Test and training are truly disjoint\n",
    "    assert(np.all((train * rest) == 0)) \n",
    "    return train, rest\n",
    "\n",
    "train, rest = train_rest_split(comments)\n",
    "\n",
    "def valida_test_split(rest):\n",
    "    test = np.zeros(rest.shape)\n",
    "    valida = rest.copy()\n",
    "    for user in xrange(rest.shape[0]):\n",
    "        test_comments = np.random.choice(rest[user, :].nonzero()[0], \n",
    "                                        size=50, \n",
    "                                        replace=True)\n",
    "        valida[user, test_comments] = 0.\n",
    "        test[user, test_comments] = rest[user, test_comments]\n",
    "        \n",
    "    # Test and training are truly disjoint\n",
    "    assert(np.all((train * rest) == 0)) \n",
    "    return valida, test\n",
    "\n",
    "valida, test = valida_test_split(rest)"
   ]
  },
  {
   "cell_type": "code",
   "execution_count": 8,
   "metadata": {
    "collapsed": false
   },
   "outputs": [],
   "source": [
    "#Item-based Collaborative Filtering\n",
    "#item-similarity matrix will measure the similarity between any two pairs of items.\n",
    "def slow_similarity(comments, kind='user'):\n",
    "    if kind == 'user':\n",
    "        axmax = 0\n",
    "        axmin = 1\n",
    "    elif kind == 'talk':\n",
    "        axmax = 1\n",
    "        axmin = 0\n",
    "    sim = np.zeros((comments.shape[axmax], comments.shape[axmax]))\n",
    "    for u in xrange(comments.shape[axmax]):\n",
    "        for uprime in xrange(comments.shape[axmax]):\n",
    "            rui_sqrd = 0.\n",
    "            ruprimei_sqrd = 0.\n",
    "            for i in xrange(comments.shape[axmin]):\n",
    "                sim[u, uprime] = comments[u, i] * comments[uprime, i]\n",
    "                rui_sqrd += comments[u, i] ** 2\n",
    "                ruprimei_sqrd += comments[uprime, i] ** 2\n",
    "            sim[u, uprime] /= rui_sqrd * ruprimei_sqrd\n",
    "    return sim\n",
    "\n",
    "def fast_similarity(comments, kind='user', epsilon=1e-9):\n",
    "    # epsilon -> small number for handling dived-by-zero errors\n",
    "    if kind == 'user':\n",
    "        sim = comments.dot(comments.T) + epsilon\n",
    "    elif kind == 'talk':\n",
    "        sim = comments.T.dot(comments) + epsilon\n",
    "    norms = np.array([np.sqrt(np.diagonal(sim))])\n",
    "    return (sim / norms / norms.T)"
   ]
  },
  {
   "cell_type": "code",
   "execution_count": 9,
   "metadata": {
    "collapsed": false
   },
   "outputs": [
    {
     "name": "stdout",
     "output_type": "stream",
     "text": [
      "The slowest run took 614.27 times longer than the fastest. This could mean that an intermediate result is being cached.\n",
      "10000 loops, best of 3: 35.6 µs per loop\n"
     ]
    }
   ],
   "source": [
    "%timeit fast_similarity(train, kind='user')"
   ]
  },
  {
   "cell_type": "code",
   "execution_count": 16,
   "metadata": {
    "collapsed": false
   },
   "outputs": [
    {
     "name": "stderr",
     "output_type": "stream",
     "text": [
      "c:\\python27\\lib\\site-packages\\ipykernel\\__main__.py:19: RuntimeWarning: invalid value encountered in double_scalars\n"
     ]
    },
    {
     "name": "stdout",
     "output_type": "stream",
     "text": [
      "1 loop, best of 3: 280 ms per loop\n"
     ]
    }
   ],
   "source": [
    "%timeit slow_similarity(train, kind='user')"
   ]
  },
  {
   "cell_type": "code",
   "execution_count": 10,
   "metadata": {
    "collapsed": false
   },
   "outputs": [
    {
     "name": "stdout",
     "output_type": "stream",
     "text": [
      "[[ 1.          0.71482388  0.6117559   0.38954011]\n",
      " [ 0.71482388  1.          0.66570782  0.63835495]\n",
      " [ 0.6117559   0.66570782  1.          0.6383881 ]\n",
      " [ 0.38954011  0.63835495  0.6383881   1.        ]]\n"
     ]
    }
   ],
   "source": [
    "user_similarity_f = fast_similarity(train, kind='user')\n",
    "talk_similarity_f = fast_similarity(train, kind='talk')\n",
    "print talk_similarity[:4, :4]"
   ]
  },
  {
   "cell_type": "code",
   "execution_count": 11,
   "metadata": {
    "collapsed": true
   },
   "outputs": [],
   "source": [
    "#user_based collaborating filtering\n",
    "\n",
    "def predict_slow_simple(comments, similarity, kind='user'):\n",
    "    pred = np.zeros(comments.shape)\n",
    "    if kind == 'user':\n",
    "        for i in xrange(comments.shape[0]):\n",
    "            for j in xrange(comments.shape[1]):\n",
    "                pred[i, j] = similarity[i, :].dot(comments[:, j])\\\n",
    "                             /np.sum(np.abs(similarity[i, :]))\n",
    "        return pred\n",
    "    elif kind == 'talk':\n",
    "        for i in xrange(comments.shape[0]):\n",
    "            for j in xrange(comments.shape[1]):\n",
    "                pred[i, j] = similarity[j, :].dot(comments[i, :].T)\\\n",
    "                             /np.sum(np.abs(similarity[j, :]))\n",
    "\n",
    "        return pred\n",
    "\n",
    "def predict_fast_simple(comments, similarity, kind='user'):\n",
    "    if kind == 'user':\n",
    "        return similarity.dot(comments) / np.array([np.abs(similarity).sum(axis=1)]).T\n",
    "    elif kind == 'talk':\n",
    "        return comments.dot(similarity) / np.array([np.abs(similarity).sum(axis=1)])"
   ]
  },
  {
   "cell_type": "code",
   "execution_count": 12,
   "metadata": {
    "collapsed": false
   },
   "outputs": [
    {
     "name": "stdout",
     "output_type": "stream",
     "text": [
      "10 loops, best of 3: 34.4 ms per loop\n"
     ]
    }
   ],
   "source": [
    "%timeit predict_slow_simple(train, user_similarity, kind='user')"
   ]
  },
  {
   "cell_type": "code",
   "execution_count": 13,
   "metadata": {
    "collapsed": false
   },
   "outputs": [
    {
     "name": "stdout",
     "output_type": "stream",
     "text": [
      "The slowest run took 7.90 times longer than the fastest. This could mean that an intermediate result is being cached.\n",
      "10000 loops, best of 3: 39.6 µs per loop\n"
     ]
    }
   ],
   "source": [
    "%timeit predict_fast_simple(train, user_similarity, kind='user')"
   ]
  },
  {
   "cell_type": "code",
   "execution_count": 14,
   "metadata": {
    "collapsed": true
   },
   "outputs": [],
   "source": [
    "from sklearn.metrics import mean_squared_error\n",
    "\n",
    "def get_mse(pred, actual):\n",
    "    # Ignore nonzero terms.\n",
    "    pred = pred[actual.nonzero()].flatten()\n",
    "    actual = actual[actual.nonzero()].flatten()\n",
    "    return mean_squared_error(pred, actual)"
   ]
  },
  {
   "cell_type": "code",
   "execution_count": 15,
   "metadata": {
    "collapsed": false
   },
   "outputs": [
    {
     "name": "stdout",
     "output_type": "stream",
     "text": [
      "User-based CF MSE: 43719095.5233\n",
      "Talk-based CF MSE: 37060596.5583\n",
      "User-based CF MSE: 51428370.1744\n",
      "Talk-based CF MSE: 71600537.6994\n"
     ]
    }
   ],
   "source": [
    "#get result from training dataset and validation dataset\n",
    "\n",
    "talk_prediction = predict_fast_simple(train, talk_similarity, kind='talk')\n",
    "user_prediction = predict_fast_simple(train, user_similarity, kind='user')\n",
    "\n",
    "print 'User-based CF MSE: ' + str(get_mse(user_prediction, valida))\n",
    "print 'Talk-based CF MSE: ' + str(get_mse(talk_prediction, valida))\n",
    "\n",
    "#get result from training dataset and test dataset\n",
    "\n",
    "talk_prediction = predict_fast_simple(train, talk_similarity, kind='talk')\n",
    "user_prediction = predict_fast_simple(train, user_similarity, kind='user')\n",
    "\n",
    "print 'User-based CF MSE: ' + str(get_mse(user_prediction, test))\n",
    "print 'Talk-based CF MSE: ' + str(get_mse(talk_prediction, test))"
   ]
  },
  {
   "cell_type": "code",
   "execution_count": 14,
   "metadata": {
    "collapsed": true
   },
   "outputs": [],
   "source": [
    "#Task 2.2-Matrix Factorization\n",
    "#define the matrix_factorization\n",
    "import numpy\n",
    "\n",
    "def matrix_factorization(R, P, Q, K, steps=5000, alpha=0.0002, beta=0.02):\n",
    "    Q = Q.T\n",
    "    for step in xrange(steps):\n",
    "        for i in xrange(len(R)):\n",
    "            for j in xrange(len(R[i])):\n",
    "                if R[i][j] > 0:\n",
    "                    eij = R[i][j] - numpy.dot(P[i,:],Q[:,j])\n",
    "                    for k in xrange(K):\n",
    "                        P[i][k] = P[i][k] + alpha * (2 * eij * Q[k][j] - beta * P[i][k])\n",
    "                        Q[k][j] = Q[k][j] + alpha * (2 * eij * P[i][k] - beta * Q[k][j])\n",
    "        eR = numpy.dot(P,Q)\n",
    "        e = 0\n",
    "        for i in xrange(len(R)):\n",
    "            for j in xrange(len(R[i])):\n",
    "                if R[i][j] > 0:\n",
    "                    e = e + pow(R[i][j] - numpy.dot(P[i,:],Q[:,j]), 2)\n",
    "                    for k in xrange(K):\n",
    "                        e = e + (beta/2) * (pow(P[i][k],2) + pow(Q[k][j],2))\n",
    "        if e < 0.001:\n",
    "            break\n",
    "    return P, Q.T"
   ]
  },
  {
   "cell_type": "code",
   "execution_count": 15,
   "metadata": {
    "collapsed": false
   },
   "outputs": [
    {
     "name": "stderr",
     "output_type": "stream",
     "text": [
      "c:\\python27\\lib\\site-packages\\ipykernel\\__main__.py:14: RuntimeWarning: overflow encountered in double_scalars\n",
      "c:\\python27\\lib\\site-packages\\ipykernel\\__main__.py:13: RuntimeWarning: overflow encountered in double_scalars\n",
      "c:\\python27\\lib\\site-packages\\ipykernel\\__main__.py:13: RuntimeWarning: invalid value encountered in double_scalars\n",
      "c:\\python27\\lib\\site-packages\\ipykernel\\__main__.py:14: RuntimeWarning: invalid value encountered in double_scalars\n",
      "c:\\python27\\lib\\site-packages\\ipykernel\\__main__.py:20: RuntimeWarning: invalid value encountered in double_scalars\n",
      "c:\\python27\\lib\\site-packages\\ipykernel\\__main__.py:22: RuntimeWarning: invalid value encountered in double_scalars\n",
      "c:\\python27\\lib\\site-packages\\ipykernel\\__main__.py:22: RuntimeWarning: overflow encountered in double_scalars\n"
     ]
    }
   ],
   "source": [
    "#R = numpy.array(R)\n",
    "\n",
    "N = len(train)\n",
    "M = len(train[0])\n",
    "K = 2\n",
    "\n",
    "P = numpy.random.rand(N,K)\n",
    "Q = numpy.random.rand(M,K)\n",
    "\n",
    "nP, nQ = matrix_factorization(train, P, Q, K)\n",
    "nR = numpy.dot(nP, nQ.T)"
   ]
  },
  {
   "cell_type": "code",
   "execution_count": 16,
   "metadata": {
    "collapsed": false
   },
   "outputs": [
    {
     "name": "stdout",
     "output_type": "stream",
     "text": [
      "[[        nan         nan         nan ...,         nan         nan\n",
      "          nan]\n",
      " [        nan         nan         nan ...,         nan         nan\n",
      "          nan]\n",
      " [        nan         nan         nan ...,  0.61453516         nan\n",
      "          nan]\n",
      " ..., \n",
      " [        nan         nan         nan ...,  0.70864507         nan\n",
      "          nan]\n",
      " [        nan         nan         nan ...,         nan         nan\n",
      "          nan]\n",
      " [        nan         nan         nan ...,  1.00379919         nan\n",
      "          nan]]\n"
     ]
    }
   ],
   "source": [
    "print nR"
   ]
  },
  {
   "cell_type": "code",
   "execution_count": 19,
   "metadata": {
    "collapsed": false
   },
   "outputs": [
    {
     "data": {
      "text/plain": [
       "NMF(alpha=0.0, beta=1, eta=0.1, init='random', l1_ratio=0.0, max_iter=200,\n",
       "  n_components=2, nls_max_iter=2000, random_state=0, shuffle=False,\n",
       "  solver='cd', sparseness=None, tol=0.0001, verbose=0)"
      ]
     },
     "execution_count": 19,
     "metadata": {},
     "output_type": "execute_result"
    }
   ],
   "source": [
    "#Non-Negative Matrix Factorization (NMF)\n",
    "X = np.array(train)\n",
    "from sklearn.decomposition import NMF\n",
    "model = NMF(n_components=2, init='random', random_state=0)\n",
    "model.fit(X) \n",
    "NMF(alpha=0.0, beta=1, eta=0.1, init='random', l1_ratio=0.0, max_iter=200,\n",
    "  n_components=2, nls_max_iter=2000, random_state=0, shuffle=False,\n",
    "  solver='cd', sparseness=None, tol=0.0001, verbose=0)"
   ]
  },
  {
   "cell_type": "code",
   "execution_count": 20,
   "metadata": {
    "collapsed": false
   },
   "outputs": [
    {
     "data": {
      "text/plain": [
       "array([[ 38.28690572,  30.10526817,  27.80727828,  30.18528468,\n",
       "         36.88908141,  20.40348866,  28.28413535,  44.66013347,\n",
       "         40.34102522,  43.3311295 ,  32.33857706,  31.42895463,\n",
       "         39.98644538,  45.04979908,  42.75692158,  30.4602856 ,\n",
       "         29.95700646,  44.73183133,  33.54820991,  43.32133947,\n",
       "         43.69389077,  43.12866723,  21.84391367,  42.97239072,\n",
       "         42.16530282,  37.68527506,  41.3566575 ,  44.21206548,\n",
       "         24.25964018,  47.32851023,  44.97141483,  41.99650738,\n",
       "         44.0087876 ,  37.18953549,  31.03240261,  30.67583807,\n",
       "         30.59062712,  43.60782682,  43.21219113,  46.5438701 ,\n",
       "         35.13924732,  48.11558065,  48.36909776,  32.26192651,\n",
       "         41.58581946,  34.66575589,  16.78744159,  10.36494072,\n",
       "         13.53247461,  33.64064657,  48.18910916,  40.53987656,\n",
       "         35.48618673,  48.21229939,  47.94503189,  46.12637311,\n",
       "         46.14516418,  41.42495517,  36.58034738,  50.06728276,\n",
       "         47.97858809,  39.25017129,  16.30419252,  35.84536483,\n",
       "         47.2435055 ,  48.08226747,  38.79754603,  49.35501604,\n",
       "         37.3620956 ,  50.19650589,  49.91473144,  45.17693715,\n",
       "         49.91884283,  49.92236811,  49.92236811,  49.92730179,\n",
       "         49.93384191,  49.09921055,  37.7047893 ,  41.17953925,\n",
       "         45.20635954,  49.11746115,  37.47155711,  40.31757785,\n",
       "         31.38915237,  43.59245687,  49.13541952,  49.16424931,\n",
       "         43.61588391,  28.74467523,  32.61295621,  49.19658532,\n",
       "         49.20389684,  37.55271186,  40.38772781,  40.38772781,\n",
       "         37.56653276,  49.23316467,  49.24770127,  37.58981241,\n",
       "         49.25629556,  49.25856331,  40.42225559,  49.26403062,\n",
       "         43.70805107,  28.80428622,  43.71133181,  40.43620204,\n",
       "         43.72175244,  23.536339  ,  43.73777597,  43.76233227,\n",
       "         43.76233227,  43.76886637,  43.83047746,  20.5405472 ,\n",
       "         43.84117966,  43.93919331,  34.65638673,  43.96521238,\n",
       "         43.97213971,  43.98404113,  32.88622324,  43.98817465,\n",
       "         43.98902744,  44.00163039,  34.70994668,  34.71098745,\n",
       "         23.60736073,  34.72490126,  34.73571511,  34.73571511,\n",
       "         34.74103057,  23.36275038,  34.74623438,  12.25213718,\n",
       "         23.63041737,  23.63041737,  12.25213718,  12.25213718,\n",
       "          0.        ,   0.        ,  12.25560085,  12.2567554 ,\n",
       "         12.25790996,  12.25790996,  12.26021907,  12.26021907,\n",
       "          0.        ,  12.26021907,  12.26137362,  12.26137362,\n",
       "         12.26137362,  12.26252818,  12.26252818,   0.        ,\n",
       "         12.26599184,   0.        ,  12.2671464 ,  12.26830095,\n",
       "         12.26945551,   0.        ,   0.        ,  12.2798465 ,  12.2798465 ],\n",
       "       [ 36.85712495,  75.43946481,  76.75522971,  66.62734557,\n",
       "         47.76477755,  56.58736635,  73.48648273,  50.85551542,\n",
       "         83.08724418,  60.94901751,  58.67405685,  58.28893545,\n",
       "         43.04367667,  48.41679323,  65.50891239,  47.43260876,\n",
       "         59.83642012,  51.08417319,  52.74263569,  61.6169562 ,\n",
       "         58.84751596,  63.20426208,  55.65681617,  46.77394181,\n",
       "         70.56267304,  60.87679159,  58.87465798,  55.41029999,\n",
       "         53.69148239,  32.3562708 ,  49.92727599,  72.0923411 ,\n",
       "         57.18948253,  41.16903575,  72.1905701 ,   4.0085001 ,\n",
       "         73.79164559,  42.64808066,  63.58117697,  38.77881921,\n",
       "         31.96912202,  27.18815071,  25.33586492,  45.71658362,\n",
       "         32.87478574,  45.73438287,  52.03449711,  51.13947774,\n",
       "         34.35611622,  33.77537537,  27.24714267,  23.12526344,\n",
       "         30.0023353 ,  27.26311663,  29.30530077,  42.85744994,\n",
       "         42.87414221,  34.84945791,  32.32183631,  13.73263696,\n",
       "         29.34707756,  26.93244927,  32.56832268,  20.63973019,\n",
       "         17.64649682,  29.37925082,  16.74048205,   2.04562514,\n",
       "         16.50803143,  13.74440731,  13.8050816 ,   5.75703907,\n",
       "         13.80621864,  13.8104193 ,  13.8104193 ,  13.81178376,\n",
       "         13.83016672,   2.11558364,   5.11364745,  11.41088424,\n",
       "          5.7853224 ,   2.12422678,   4.78318982,   0.        ,\n",
       "          0.        ,   0.        ,   2.12252795,   2.14170593,\n",
       "          0.        ,   2.37234691,   0.        ,   2.14799447,\n",
       "          2.14884691,   4.81061576,   0.        ,   0.        ,\n",
       "          4.80919817,   2.14706711,   2.14362291,   4.80397132,\n",
       "          2.14191905,   2.1413792 ,   0.        ,   2.1443171 ,\n",
       "          0.        ,   2.37222423,   0.        ,   0.        ,\n",
       "          0.        ,   0.        ,   0.        ,   0.        ,\n",
       "          0.        ,   0.        ,   0.        ,   0.        ,\n",
       "          0.        ,   0.        ,   0.        ,   0.        ,\n",
       "          0.        ,   0.        ,   0.        ,   0.        ,\n",
       "          0.        ,   0.        ,   0.        ,   0.        ,\n",
       "          0.        ,   0.        ,   0.        ,   0.        ,\n",
       "          0.        ,   0.        ,   0.        ,   0.        ,\n",
       "          0.        ,   0.        ,   0.        ,   0.        ,\n",
       "          0.        ,   0.        ,   0.        ,   0.        ,\n",
       "          0.        ,   0.        ,   0.        ,   0.        ,\n",
       "          0.        ,   0.        ,   0.        ,   0.        ,\n",
       "          0.        ,   0.        ,   0.        ,   0.        ,\n",
       "          0.        ,   0.        ,   0.        ,   0.        ,\n",
       "          0.        ,   0.        ,   0.        ,   0.        ,   0.        ]])"
      ]
     },
     "execution_count": 20,
     "metadata": {},
     "output_type": "execute_result"
    }
   ],
   "source": [
    "model.components_"
   ]
  },
  {
   "cell_type": "code",
   "execution_count": 21,
   "metadata": {
    "collapsed": false
   },
   "outputs": [
    {
     "data": {
      "text/plain": [
       "156500.8684022158"
      ]
     },
     "execution_count": 21,
     "metadata": {},
     "output_type": "execute_result"
    }
   ],
   "source": [
    "model.reconstruction_err_"
   ]
  },
  {
   "cell_type": "code",
   "execution_count": null,
   "metadata": {
    "collapsed": true
   },
   "outputs": [],
   "source": [
    ""
   ]
  }
 ],
 "metadata": {
  "kernelspec": {
   "display_name": "Python 2",
   "language": "python",
   "name": "python2"
  },
  "language_info": {
   "codemirror_mode": {
    "name": "ipython",
    "version": 2.0
   },
   "file_extension": ".py",
   "mimetype": "text/x-python",
   "name": "python",
   "nbconvert_exporter": "python",
   "pygments_lexer": "ipython2",
   "version": "2.7.12"
  }
 },
 "nbformat": 4,
 "nbformat_minor": 0
}