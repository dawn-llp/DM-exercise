{
 "cells": [
  {
   "cell_type": "markdown",
   "metadata": {},
   "source": [
    "### 1.Load package"
   ]
  },
  {
   "cell_type": "code",
   "execution_count": 1,
   "metadata": {
    "collapsed": false
   },
   "outputs": [
    {
     "name": "stderr",
     "output_type": "stream",
     "text": [
      "Warning message:\n",
      "\"package 'ggplot2' was built under R version 3.3.2\""
     ]
    }
   ],
   "source": [
    "library(ggplot2)\n",
    "#require(ggplot2)"
   ]
  },
  {
   "cell_type": "markdown",
   "metadata": {},
   "source": [
    "### 2.Get help"
   ]
  },
  {
   "cell_type": "code",
   "execution_count": 2,
   "metadata": {
    "collapsed": true
   },
   "outputs": [],
   "source": [
    "?read.delim\n",
    "#??base::delim  # search for a specific library"
   ]
  },
  {
   "cell_type": "markdown",
   "metadata": {},
   "source": [
    "### 3.Import Data\n",
    "<p> Try to read csv from a url"
   ]
  },
  {
   "cell_type": "code",
   "execution_count": 2,
   "metadata": {
    "collapsed": false
   },
   "outputs": [
    {
     "data": {
      "text/html": [
       "<ol class=list-inline>\n",
       "\t<li>10000</li>\n",
       "\t<li>3</li>\n",
       "</ol>\n"
      ],
      "text/latex": [
       "\\begin{enumerate*}\n",
       "\\item 10000\n",
       "\\item 3\n",
       "\\end{enumerate*}\n"
      ],
      "text/markdown": [
       "1. 10000\n",
       "2. 3\n",
       "\n",
       "\n"
      ],
      "text/plain": [
       "[1] 10000     3"
      ]
     },
     "metadata": {},
     "output_type": "display_data"
    }
   ],
   "source": [
    "data.file=\"http://www.yurulin.com/class/spring2014_datamining/data/ml_hackers/01_heights_weights_genders.csv\"\n",
    "heights.weights = read.csv(data.file, header=T, sep=\",\")\n",
    "# have header(column names), seperator is comma\n",
    "dim(heights.weights)"
   ]
  },
  {
   "cell_type": "markdown",
   "metadata": {},
   "source": [
    "### 4.Summary Data"
   ]
  },
  {
   "cell_type": "code",
   "execution_count": 5,
   "metadata": {
    "collapsed": false
   },
   "outputs": [
    {
     "data": {
      "text/plain": [
       "    Gender         Height          Weight     \n",
       " Female:5000   Min.   :54.26   Min.   : 64.7  \n",
       " Male  :5000   1st Qu.:63.51   1st Qu.:135.8  \n",
       "               Median :66.32   Median :161.2  \n",
       "               Mean   :66.37   Mean   :161.4  \n",
       "               3rd Qu.:69.17   3rd Qu.:187.2  \n",
       "               Max.   :79.00   Max.   :270.0  "
      ]
     },
     "metadata": {},
     "output_type": "display_data"
    }
   ],
   "source": [
    "summary(heights.weights)"
   ]
  },
  {
   "cell_type": "code",
   "execution_count": 7,
   "metadata": {
    "collapsed": false
   },
   "outputs": [
    {
     "data": {
      "text/html": [
       "<dl class=dl-horizontal>\n",
       "\t<dt>0%</dt>\n",
       "\t\t<dd>54.2631333250971</dd>\n",
       "\t<dt>20%</dt>\n",
       "\t\t<dd>62.8590065080687</dd>\n",
       "\t<dt>40%</dt>\n",
       "\t\t<dd>65.1942213556635</dd>\n",
       "\t<dt>60%</dt>\n",
       "\t\t<dd>67.4353738413232</dd>\n",
       "\t<dt>80%</dt>\n",
       "\t\t<dd>69.8116200052754</dd>\n",
       "\t<dt>100%</dt>\n",
       "\t\t<dd>78.9987423463896</dd>\n",
       "</dl>\n"
      ],
      "text/latex": [
       "\\begin{description*}\n",
       "\\item[0\\textbackslash{}\\%] 54.2631333250971\n",
       "\\item[20\\textbackslash{}\\%] 62.8590065080687\n",
       "\\item[40\\textbackslash{}\\%] 65.1942213556635\n",
       "\\item[60\\textbackslash{}\\%] 67.4353738413232\n",
       "\\item[80\\textbackslash{}\\%] 69.8116200052754\n",
       "\\item[100\\textbackslash{}\\%] 78.9987423463896\n",
       "\\end{description*}\n"
      ],
      "text/markdown": [
       "0%\n",
       ":   54.263133325097120%\n",
       ":   62.859006508068740%\n",
       ":   65.194221355663560%\n",
       ":   67.435373841323280%\n",
       ":   69.8116200052754100%\n",
       ":   78.9987423463896\n",
       "\n"
      ],
      "text/plain": [
       "      0%      20%      40%      60%      80%     100% \n",
       "54.26313 62.85901 65.19422 67.43537 69.81162 78.99874 "
      ]
     },
     "metadata": {},
     "output_type": "display_data"
    }
   ],
   "source": [
    "#mean(heights.weights[,2])\n",
    "#median(heights.weights$Height)\n",
    "#max(heights.weights$Height)\n",
    "quantile(heights.weights$Height,probs=seq(0,1,by=0.2)) #every 20%"
   ]
  },
  {
   "cell_type": "code",
   "execution_count": 9,
   "metadata": {
    "collapsed": false
   },
   "outputs": [
    {
     "data": {
      "text/html": [
       "<dl class=dl-horizontal>\n",
       "\t<dt>Female</dt>\n",
       "\t\t<dd>63.7087736034251</dd>\n",
       "\t<dt>Male</dt>\n",
       "\t\t<dd>69.0263459062174</dd>\n",
       "</dl>\n"
      ],
      "text/plain": [
       "  Female     Male \n",
       "63.70877 69.02635 "
      ]
     },
     "metadata": {},
     "output_type": "display_data"
    }
   ],
   "source": [
    "#sd(heights.weights[,2])\n",
    "# Tabulation\n",
    "t1=tapply(heights.weights$Height, INDEX=heights.weights$Gender,\n",
    "          FUN=mean, na.rm=T)\n",
    "t1"
   ]
  },
  {
   "cell_type": "code",
   "execution_count": 11,
   "metadata": {
    "collapsed": false
   },
   "outputs": [
    {
     "data": {
      "text/html": [
       "0.924756298740915"
      ],
      "text/latex": [
       "0.924756298740915"
      ],
      "text/markdown": [
       "0.924756298740915"
      ],
      "text/plain": [
       "[1] 0.9247563"
      ]
     },
     "metadata": {},
     "output_type": "display_data"
    }
   ],
   "source": [
    "# Correlation\n",
    "cor(heights.weights$Height,heights.weights$Weight)"
   ]
  },
  {
   "cell_type": "markdown",
   "metadata": {},
   "source": [
    "### 5.Visualization"
   ]
  },
  {
   "cell_type": "code",
   "execution_count": 67,
   "metadata": {
    "collapsed": false
   },
   "outputs": [
    {
     "data": {},
     "metadata": {},
     "output_type": "display_data"
    },
    {
     "data": {
      "image/png": "[encoded data removed]",
      "text/plain": [
       "plot without title"
      ]
     },
     "metadata": {},
     "output_type": "display_data"
    }
   ],
   "source": [
    "# lattice package has barchart etc introduced in reference book\n",
    "# here I would like to practice ggplot and base plots\n",
    "\n",
    "# try to adjust pic size with rpre\n",
    "library(repr)\n",
    "options(repr.plot.width=6, repr.plot.height=4)\n",
    "\n",
    "library(ggplot2)\n",
    "theme_set(theme_bw()) #black &white\n",
    "ggplot(heights.weights, aes(x=Height))+geom_histogram(binwidth=0.5)"
   ]
  },
  {
   "cell_type": "code",
   "execution_count": 68,
   "metadata": {
    "collapsed": false
   },
   "outputs": [
    {
     "data": {
      "image/png": "[encoded data removed]",
      "text/plain": [
       "Plot with title \"Histogram of heights.weights$Weight\""
      ]
     },
     "metadata": {},
     "output_type": "display_data"
    }
   ],
   "source": [
    "# compare with base plot\n",
    "hist(heights.weights$Weight,breaks=50)"
   ]
  },
  {
   "cell_type": "code",
   "execution_count": 70,
   "metadata": {
    "collapsed": false
   },
   "outputs": [
    {
     "data": {},
     "metadata": {},
     "output_type": "display_data"
    },
    {
     "data": {
      "image/png": "[encoded data removed]",
      "text/plain": [
       "plot without title"
      ]
     },
     "metadata": {},
     "output_type": "display_data"
    }
   ],
   "source": [
    "## Density plot\n",
    "options(repr.plot.width=8, repr.plot.height=4)\n",
    "ggplot(heights.weights, aes(x=Height, fill=factor(Gender)))+geom_density(alpha=0.7)\n",
    "#alpha represents opacity"
   ]
  },
  {
   "cell_type": "code",
   "execution_count": 71,
   "metadata": {
    "collapsed": false
   },
   "outputs": [
    {
     "data": {},
     "metadata": {},
     "output_type": "display_data"
    },
    {
     "data": {
      "image/png": "[encoded data removed]",
      "text/plain": [
       "plot without title"
      ]
     },
     "metadata": {},
     "output_type": "display_data"
    }
   ],
   "source": [
    "# facet_grid: Another way to compile two graphs\n",
    "\n",
    "p=ggplot(heights.weights, aes(x=Height, fill=Gender))+geom_density(alpha=0.7)\n",
    "p=p+facet_grid(Gender~.)\n",
    "p"
   ]
  },
  {
   "cell_type": "code",
   "execution_count": 72,
   "metadata": {
    "collapsed": false
   },
   "outputs": [
    {
     "data": {},
     "metadata": {},
     "output_type": "display_data"
    },
    {
     "data": {
      "image/png": "[encoded data removed]",
      "text/plain": [
       "plot without title"
      ]
     },
     "metadata": {},
     "output_type": "display_data"
    }
   ],
   "source": [
    "library(lattice) # lattice package method to do the same thing \n",
    "densityplot(~Height|Gender,data=heights.weights,layout=c(1,2),col='black')"
   ]
  },
  {
   "cell_type": "code",
   "execution_count": 73,
   "metadata": {
    "collapsed": false
   },
   "outputs": [
    {
     "data": {},
     "metadata": {},
     "output_type": "display_data"
    },
    {
     "data": {
      "image/png": "[encoded data removed]",
      "text/plain": [
       "plot without title"
      ]
     },
     "metadata": {},
     "output_type": "display_data"
    }
   ],
   "source": [
    "# scatter plot\n",
    "options(repr.plot.width=6, repr.plot.height=4)\n",
    "p=ggplot(heights.weights, aes(x = Weight, y = Height)) + geom_point(shape=1) # use hollow circles \n",
    "p=p+ geom_smooth(method=lm,formula=y~x,se=FALSE)  # add linear regression line\n",
    "p             "
   ]
  },
  {
   "cell_type": "code",
   "execution_count": 74,
   "metadata": {
    "collapsed": false
   },
   "outputs": [
    {
     "data": {},
     "metadata": {},
     "output_type": "display_data"
    },
    {
     "data": {
      "image/png": "[encoded data removed]",
      "text/plain": [
       "plot without title"
      ]
     },
     "metadata": {},
     "output_type": "display_data"
    }
   ],
   "source": [
    "p=ggplot(heights.weights, aes(x = Weight, y = Height,color=Gender)) + geom_point(shape=0) # use square \n",
    "p  #cannot add a line when use geom_smooth, but two lines represents each gender class"
   ]
  },
  {
   "cell_type": "code",
   "execution_count": 75,
   "metadata": {
    "collapsed": false
   },
   "outputs": [
    {
     "data": {},
     "metadata": {},
     "output_type": "display_data"
    },
    {
     "data": {
      "image/png": "[encoded data removed]",
      "text/plain": [
       "plot without title"
      ]
     },
     "metadata": {},
     "output_type": "display_data"
    }
   ],
   "source": [
    "# Boxplot ggplot way\n",
    "p=ggplot(heights.weights, aes(x = Gender, y = Height))\n",
    "p=p+ geom_boxplot(outlier.colour=\"red\", outlier.shape=8,outlier.size=5) \n",
    "p"
   ]
  },
  {
   "cell_type": "code",
   "execution_count": 76,
   "metadata": {
    "collapsed": false
   },
   "outputs": [
    {
     "data": {},
     "metadata": {},
     "output_type": "display_data"
    },
    {
     "data": {
      "image/png": "[encoded data removed]",
      "text/plain": [
       "plot without title"
      ]
     },
     "metadata": {},
     "output_type": "display_data"
    }
   ],
   "source": [
    "# Boxplot lattice way\n",
    "bwplot(Height~Gender,data=heights.weights,ylab='Height')"
   ]
  },
  {
   "cell_type": "markdown",
   "metadata": {},
   "source": [
    "### 6.thin-tailed v. heavy-tailed"
   ]
  },
  {
   "cell_type": "code",
   "execution_count": 30,
   "metadata": {
    "collapsed": false
   },
   "outputs": [
    {
     "data": {
      "text/plain": [
       "     Min.   1st Qu.    Median      Mean   3rd Qu.      Max. \n",
       "-3.450000 -0.662700 -0.014010  0.005278  0.680100  3.558000 "
      ]
     },
     "metadata": {},
     "output_type": "display_data"
    }
   ],
   "source": [
    "set.seed(101)\n",
    "normal.values=rnorm(10000,0,1)\n",
    "cauchy.values=rcauchy(10000,0,1)\n",
    "summary(normal.values)"
   ]
  },
  {
   "cell_type": "code",
   "execution_count": 31,
   "metadata": {
    "collapsed": false
   },
   "outputs": [
    {
     "data": {
      "text/plain": [
       "     Min.   1st Qu.    Median      Mean   3rd Qu.      Max. \n",
       "-3107.000    -0.909     0.014     2.506     1.004 21660.000 "
      ]
     },
     "metadata": {},
     "output_type": "display_data"
    }
   ],
   "source": [
    "summary(cauchy.values)"
   ]
  },
  {
   "cell_type": "code",
   "execution_count": 33,
   "metadata": {
    "collapsed": false
   },
   "outputs": [
    {
     "data": {
      "text/plain": [
       "       X             distribution  \n",
       " Min.   :-3107.348   cauchy:10000  \n",
       " 1st Qu.:   -0.762   normal:10000  \n",
       " Median :   -0.003                 \n",
       " Mean   :    1.255                 \n",
       " 3rd Qu.:    0.795                 \n",
       " Max.   :21661.288                 "
      ]
     },
     "metadata": {},
     "output_type": "display_data"
    }
   ],
   "source": [
    "dt=data.frame(X=cauchy.values,distribution='cauchy')\n",
    "dt=rbind(dt,data.frame(X=normal.values,distribution='normal'))\n",
    "summary(dt)"
   ]
  },
  {
   "cell_type": "code",
   "execution_count": 79,
   "metadata": {
    "collapsed": false
   },
   "outputs": [
    {
     "name": "stderr",
     "output_type": "stream",
     "text": [
      "Warning message:\n",
      "\"Removed 995 rows containing non-finite values (stat_density).\""
     ]
    },
    {
     "data": {},
     "metadata": {},
     "output_type": "display_data"
    },
    {
     "data": {
      "image/png": "[encoded data removed]",
      "text/plain": [
       "plot without title"
      ]
     },
     "metadata": {},
     "output_type": "display_data"
    }
   ],
   "source": [
    "p=ggplot(data=dt, aes(x=X, linetype=distribution))+ geom_density()\n",
    "p=p+scale_x_continuous(limits=c(-6,6)) #range of x-axis\n",
    "p"
   ]
  },
  {
   "cell_type": "markdown",
   "metadata": {},
   "source": [
    "### 7.Power Law"
   ]
  },
  {
   "cell_type": "code",
   "execution_count": 45,
   "metadata": {
    "collapsed": false
   },
   "outputs": [
    {
     "data": {
      "text/html": [
       "<table>\n",
       "<thead><tr><th scope=col>Table.with.row.headings.in.column.A.and.column.headings.in.row.2.</th><th scope=col>X</th><th scope=col>X.1</th><th scope=col>X.2</th><th scope=col>X.3</th><th scope=col>X.4</th><th scope=col>X.5</th><th scope=col>X.6</th><th scope=col>X.7</th><th scope=col>X.8</th><th scope=col>X.9</th></tr></thead>\n",
       "<tbody>\n",
       "\t<tr><td>name        </td><td>rank        </td><td>count       </td><td>prop100k    </td><td>cum_prop100k</td><td>pctwhite    </td><td>pctblack    </td><td>pctapi      </td><td>pctaian     </td><td>pct2prace   </td><td>pcthispanic </td></tr>\n",
       "\t<tr><td>SMITH       </td><td>1           </td><td>2376206     </td><td>880.85      </td><td>880.85      </td><td>73.35       </td><td>22.22       </td><td>0.4         </td><td>0.85        </td><td>1.63        </td><td>1.56        </td></tr>\n",
       "\t<tr><td>JOHNSON     </td><td>2           </td><td>1857160     </td><td>688.44      </td><td>1569.3      </td><td>61.55       </td><td>33.8        </td><td>0.42        </td><td>0.91        </td><td>1.82        </td><td>1.5         </td></tr>\n",
       "\t<tr><td>WILLIAMS    </td><td>3           </td><td>1534042     </td><td>568.66      </td><td>2137.96     </td><td>48.52       </td><td>46.72       </td><td>0.37        </td><td>0.78        </td><td>2.01        </td><td>1.6         </td></tr>\n",
       "\t<tr><td>BROWN       </td><td>4           </td><td>1380145     </td><td>511.62      </td><td>2649.58     </td><td>60.71       </td><td>34.54       </td><td>0.41        </td><td>0.83        </td><td>1.86        </td><td>1.64        </td></tr>\n",
       "\t<tr><td>JONES       </td><td>5           </td><td>1362755     </td><td>505.17      </td><td>3154.75     </td><td>57.69       </td><td>37.73       </td><td>0.35        </td><td>0.94        </td><td>1.85        </td><td>1.44        </td></tr>\n",
       "</tbody>\n",
       "</table>\n"
      ],
      "text/latex": [
       "\\begin{tabular}{r|lllllllllll}\n",
       " Table.with.row.headings.in.column.A.and.column.headings.in.row.2. & X & X.1 & X.2 & X.3 & X.4 & X.5 & X.6 & X.7 & X.8 & X.9\\\\\n",
       "\\hline\n",
       "\t name           & rank           & count          & prop100k       & cum\\_prop100k & pctwhite       & pctblack       & pctapi         & pctaian        & pct2prace      & pcthispanic   \\\\\n",
       "\t SMITH        & 1            & 2376206      & 880.85       & 880.85       & 73.35        & 22.22        & 0.4          & 0.85         & 1.63         & 1.56        \\\\\n",
       "\t JOHNSON      & 2            & 1857160      & 688.44       & 1569.3       & 61.55        & 33.8         & 0.42         & 0.91         & 1.82         & 1.5         \\\\\n",
       "\t WILLIAMS     & 3            & 1534042      & 568.66       & 2137.96      & 48.52        & 46.72        & 0.37         & 0.78         & 2.01         & 1.6         \\\\\n",
       "\t BROWN        & 4            & 1380145      & 511.62       & 2649.58      & 60.71        & 34.54        & 0.41         & 0.83         & 1.86         & 1.64        \\\\\n",
       "\t JONES        & 5            & 1362755      & 505.17       & 3154.75      & 57.69        & 37.73        & 0.35         & 0.94         & 1.85         & 1.44        \\\\\n",
       "\\end{tabular}\n"
      ],
      "text/markdown": [
       "\n",
       "Table.with.row.headings.in.column.A.and.column.headings.in.row.2. | X | X.1 | X.2 | X.3 | X.4 | X.5 | X.6 | X.7 | X.8 | X.9 | \n",
       "|---|---|---|---|---|---|\n",
       "| name         | rank         | count        | prop100k     | cum_prop100k | pctwhite     | pctblack     | pctapi       | pctaian      | pct2prace    | pcthispanic  | \n",
       "| SMITH        | 1            | 2376206      | 880.85       | 880.85       | 73.35        | 22.22        | 0.4          | 0.85         | 1.63         | 1.56         | \n",
       "| JOHNSON      | 2            | 1857160      | 688.44       | 1569.3       | 61.55        | 33.8         | 0.42         | 0.91         | 1.82         | 1.5          | \n",
       "| WILLIAMS     | 3            | 1534042      | 568.66       | 2137.96      | 48.52        | 46.72        | 0.37         | 0.78         | 2.01         | 1.6          | \n",
       "| BROWN        | 4            | 1380145      | 511.62       | 2649.58      | 60.71        | 34.54        | 0.41         | 0.83         | 1.86         | 1.64         | \n",
       "| JONES        | 5            | 1362755      | 505.17       | 3154.75      | 57.69        | 37.73        | 0.35         | 0.94         | 1.85         | 1.44         | \n",
       "\n",
       "\n"
      ],
      "text/plain": [
       "  Table.with.row.headings.in.column.A.and.column.headings.in.row.2. X   \n",
       "1 name                                                              rank\n",
       "2 SMITH                                                             1   \n",
       "3 JOHNSON                                                           2   \n",
       "4 WILLIAMS                                                          3   \n",
       "5 BROWN                                                             4   \n",
       "6 JONES                                                             5   \n",
       "  X.1     X.2      X.3          X.4      X.5      X.6    X.7     X.8      \n",
       "1 count   prop100k cum_prop100k pctwhite pctblack pctapi pctaian pct2prace\n",
       "2 2376206 880.85   880.85       73.35    22.22    0.4    0.85    1.63     \n",
       "3 1857160 688.44   1569.3       61.55    33.8     0.42   0.91    1.82     \n",
       "4 1534042 568.66   2137.96      48.52    46.72    0.37   0.78    2.01     \n",
       "5 1380145 511.62   2649.58      60.71    34.54    0.41   0.83    1.86     \n",
       "6 1362755 505.17   3154.75      57.69    37.73    0.35   0.94    1.85     \n",
       "  X.9        \n",
       "1 pcthispanic\n",
       "2 1.56       \n",
       "3 1.5        \n",
       "4 1.6        \n",
       "5 1.64       \n",
       "6 1.44       "
      ]
     },
     "metadata": {},
     "output_type": "display_data"
    }
   ],
   "source": [
    "# import data \n",
    "data.url = 'http://www.yurulin.com/class/archive/fall2013_datamining/data/others'\n",
    "data.file = sprintf('%s/Top1000names.csv',data.url)\n",
    "familynames = read.csv(data.file,stringsAsFactors=FALSE)\n",
    "head(familynames)"
   ]
  },
  {
   "cell_type": "code",
   "execution_count": 46,
   "metadata": {
    "collapsed": false
   },
   "outputs": [
    {
     "data": {
      "text/html": [
       "<table>\n",
       "<thead><tr><th></th><th scope=col>Table.with.row.headings.in.column.A.and.column.headings.in.row.2.</th><th scope=col>X</th><th scope=col>X.1</th></tr></thead>\n",
       "<tbody>\n",
       "\t<tr><th scope=row>2</th><td>SMITH   </td><td>1       </td><td>2376206 </td></tr>\n",
       "\t<tr><th scope=row>3</th><td>JOHNSON </td><td>2       </td><td>1857160 </td></tr>\n",
       "\t<tr><th scope=row>4</th><td>WILLIAMS</td><td>3       </td><td>1534042 </td></tr>\n",
       "\t<tr><th scope=row>5</th><td>BROWN   </td><td>4       </td><td>1380145 </td></tr>\n",
       "\t<tr><th scope=row>6</th><td>JONES   </td><td>5       </td><td>1362755 </td></tr>\n",
       "\t<tr><th scope=row>7</th><td>MILLER  </td><td>6       </td><td>1127803 </td></tr>\n",
       "</tbody>\n",
       "</table>\n"
      ],
      "text/latex": [
       "\\begin{tabular}{r|lll}\n",
       "  & Table.with.row.headings.in.column.A.and.column.headings.in.row.2. & X & X.1\\\\\n",
       "\\hline\n",
       "\t2 & SMITH    & 1        & 2376206 \\\\\n",
       "\t3 & JOHNSON  & 2        & 1857160 \\\\\n",
       "\t4 & WILLIAMS & 3        & 1534042 \\\\\n",
       "\t5 & BROWN    & 4        & 1380145 \\\\\n",
       "\t6 & JONES    & 5        & 1362755 \\\\\n",
       "\t7 & MILLER   & 6        & 1127803 \\\\\n",
       "\\end{tabular}\n"
      ],
      "text/markdown": [
       "\n",
       "| <!--/--> | Table.with.row.headings.in.column.A.and.column.headings.in.row.2. | X | X.1 | \n",
       "|---|---|---|---|---|---|\n",
       "| 2 | SMITH    | 1        | 2376206  | \n",
       "| 3 | JOHNSON  | 2        | 1857160  | \n",
       "| 4 | WILLIAMS | 3        | 1534042  | \n",
       "| 5 | BROWN    | 4        | 1380145  | \n",
       "| 6 | JONES    | 5        | 1362755  | \n",
       "| 7 | MILLER   | 6        | 1127803  | \n",
       "\n",
       "\n"
      ],
      "text/plain": [
       "  Table.with.row.headings.in.column.A.and.column.headings.in.row.2. X X.1    \n",
       "2 SMITH                                                             1 2376206\n",
       "3 JOHNSON                                                           2 1857160\n",
       "4 WILLIAMS                                                          3 1534042\n",
       "5 BROWN                                                             4 1380145\n",
       "6 JONES                                                             5 1362755\n",
       "7 MILLER                                                            6 1127803"
      ]
     },
     "metadata": {},
     "output_type": "display_data"
    }
   ],
   "source": [
    "# have some description in the first row and read in as column names\n",
    "# column names are second row\n",
    "# need to construct correct data frame form\n",
    "namecount=familynames[-1,1:3]\n",
    "head(namecount)"
   ]
  },
  {
   "cell_type": "code",
   "execution_count": 47,
   "metadata": {
    "collapsed": false
   },
   "outputs": [
    {
     "data": {
      "text/html": [
       "<table>\n",
       "<thead><tr><th></th><th scope=col>surname</th><th scope=col>rank</th><th scope=col>count</th></tr></thead>\n",
       "<tbody>\n",
       "\t<tr><th scope=row>2</th><td>SMITH   </td><td>1       </td><td>2376206 </td></tr>\n",
       "\t<tr><th scope=row>3</th><td>JOHNSON </td><td>2       </td><td>1857160 </td></tr>\n",
       "\t<tr><th scope=row>4</th><td>WILLIAMS</td><td>3       </td><td>1534042 </td></tr>\n",
       "\t<tr><th scope=row>5</th><td>BROWN   </td><td>4       </td><td>1380145 </td></tr>\n",
       "\t<tr><th scope=row>6</th><td>JONES   </td><td>5       </td><td>1362755 </td></tr>\n",
       "\t<tr><th scope=row>7</th><td>MILLER  </td><td>6       </td><td>1127803 </td></tr>\n",
       "</tbody>\n",
       "</table>\n"
      ],
      "text/latex": [
       "\\begin{tabular}{r|lll}\n",
       "  & surname & rank & count\\\\\n",
       "\\hline\n",
       "\t2 & SMITH    & 1        & 2376206 \\\\\n",
       "\t3 & JOHNSON  & 2        & 1857160 \\\\\n",
       "\t4 & WILLIAMS & 3        & 1534042 \\\\\n",
       "\t5 & BROWN    & 4        & 1380145 \\\\\n",
       "\t6 & JONES    & 5        & 1362755 \\\\\n",
       "\t7 & MILLER   & 6        & 1127803 \\\\\n",
       "\\end{tabular}\n"
      ],
      "text/markdown": [
       "\n",
       "| <!--/--> | surname | rank | count | \n",
       "|---|---|---|---|---|---|\n",
       "| 2 | SMITH    | 1        | 2376206  | \n",
       "| 3 | JOHNSON  | 2        | 1857160  | \n",
       "| 4 | WILLIAMS | 3        | 1534042  | \n",
       "| 5 | BROWN    | 4        | 1380145  | \n",
       "| 6 | JONES    | 5        | 1362755  | \n",
       "| 7 | MILLER   | 6        | 1127803  | \n",
       "\n",
       "\n"
      ],
      "text/plain": [
       "  surname  rank count  \n",
       "2 SMITH    1    2376206\n",
       "3 JOHNSON  2    1857160\n",
       "4 WILLIAMS 3    1534042\n",
       "5 BROWN    4    1380145\n",
       "6 JONES    5    1362755\n",
       "7 MILLER   6    1127803"
      ]
     },
     "metadata": {},
     "output_type": "display_data"
    }
   ],
   "source": [
    "names(namecount)=c('surname','rank','count')\n",
    "namecount=namecount[order(as.numeric(namecount$count),decreasing=T),]\n",
    "head(namecount)"
   ]
  },
  {
   "cell_type": "code",
   "execution_count": 80,
   "metadata": {
    "collapsed": false
   },
   "outputs": [
    {
     "data": {},
     "metadata": {},
     "output_type": "display_data"
    },
    {
     "data": {
      "image/png": "[encoded data removed]",
      "text/plain": [
       "plot without title"
      ]
     },
     "metadata": {},
     "output_type": "display_data"
    }
   ],
   "source": [
    "# ggplot provide a simple syntax for quick plot\n",
    "# It's not as flexible as ggplot() way, but can be shorter in some cases.\n",
    "namecount$count=as.numeric(namecount$count) # set count column data type\n",
    "qplot(count,data=namecount,geom='histogram',bins=50,xlab='Number of Family Surnames')"
   ]
  },
  {
   "cell_type": "code",
   "execution_count": 81,
   "metadata": {
    "collapsed": false
   },
   "outputs": [
    {
     "data": {},
     "metadata": {},
     "output_type": "display_data"
    },
    {
     "data": {
      "image/png": "[encoded data removed]",
      "text/plain": [
       "plot without title"
      ]
     },
     "metadata": {},
     "output_type": "display_data"
    }
   ],
   "source": [
    "qplot(count,data=namecount,geom='density',xlab='Frequency of Family Surnames')"
   ]
  },
  {
   "cell_type": "code",
   "execution_count": 83,
   "metadata": {
    "collapsed": false
   },
   "outputs": [
    {
     "data": {
      "image/png": "[encoded data removed]",
      "text/plain": [
       "Plot with title \"Log-log Plot of Family Surnames\""
      ]
     },
     "metadata": {},
     "output_type": "display_data"
    }
   ],
   "source": [
    "options(repr.plot.width=6, repr.plot.height=6)\n",
    "plot(namecount$count,type='p',log='xy',\n",
    "     ylab='Frequency of Family Surnames',\n",
    "     xlab='Index',\n",
    "     main='Log-log Plot of Family Surnames') "
   ]
  },
  {
   "cell_type": "code",
   "execution_count": null,
   "metadata": {
    "collapsed": true
   },
   "outputs": [],
   "source": []
  }
 ],
 "metadata": {
  "anaconda-cloud": {},
  "kernelspec": {
   "display_name": "R",
   "language": "R",
   "name": "ir"
  },
  "language_info": {
   "codemirror_mode": "r",
   "file_extension": ".r",
   "mimetype": "text/x-r-source",
   "name": "R",
   "pygments_lexer": "r",
   "version": "3.3.1"
  }
 },
 "nbformat": 4,
 "nbformat_minor": 1
}
